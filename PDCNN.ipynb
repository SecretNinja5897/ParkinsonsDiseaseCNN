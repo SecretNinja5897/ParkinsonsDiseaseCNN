{
 "cells": [
  {
   "cell_type": "markdown",
   "id": "2598f63b",
   "metadata": {
    "id": "3DR-eO17geWu"
   },
   "source": [
    "# Convolutional Neural Network"
   ]
  },
  {
   "cell_type": "markdown",
   "id": "58df687c",
   "metadata": {
    "id": "EMefrVPCg-60"
   },
   "source": [
    "### Importing the libraries"
   ]
  },
  {
   "cell_type": "code",
   "execution_count": 124,
   "id": "a8458b4c",
   "metadata": {
    "executionInfo": {
     "elapsed": 2337,
     "status": "ok",
     "timestamp": 1634452746496,
     "user": {
      "displayName": "Aryaman Rtunjay",
      "photoUrl": "https://lh3.googleusercontent.com/a-/AOh14GhGt4M0ylq6JP1zdMus0p8ul3F9bgovhYjEbZxa5Q=s64",
      "userId": "10013847731473970663"
     },
     "user_tz": 420
    },
    "id": "e1IFAhGM8Wsj"
   },
   "outputs": [],
   "source": [
    "import tensorflow as tf\n",
    "import numpy as np\n",
    "from keras.preprocessing.image import ImageDataGenerator\n",
    "from keras.preprocessing import image\n",
    "import os\n",
    "import pydicom\n",
    "import glob\n",
    "from PIL import Image\n",
    "import shutil\n",
    "import random\n",
    "import matplotlib.pyplot as plt"
   ]
  },
  {
   "cell_type": "code",
   "execution_count": 125,
   "id": "15207b76",
   "metadata": {},
   "outputs": [
    {
     "name": "stdout",
     "output_type": "stream",
     "text": [
      "E:\\PCBackup\\E\\Polygence\\PDDataset\n"
     ]
    }
   ],
   "source": [
    "cd E:\\PCBackup\\E\\Polygence\\PDDataset\\"
   ]
  },
  {
   "cell_type": "code",
   "execution_count": 126,
   "id": "f45f9a65",
   "metadata": {},
   "outputs": [
    {
     "data": {
      "text/plain": [
       "'E:\\\\PCBackup\\\\E\\\\Polygence\\\\PDDataset'"
      ]
     },
     "execution_count": 126,
     "metadata": {},
     "output_type": "execute_result"
    }
   ],
   "source": [
    "pwd"
   ]
  },
  {
   "cell_type": "markdown",
   "id": "563965d4",
   "metadata": {
    "id": "oxQxCBWyoGPE"
   },
   "source": [
    "## Part 1 - Data Preprocessing"
   ]
  },
  {
   "cell_type": "markdown",
   "id": "9ea98e78",
   "metadata": {},
   "source": [
    "### Making the Training Set"
   ]
  },
  {
   "cell_type": "code",
   "execution_count": 127,
   "id": "1e1a8ba1",
   "metadata": {},
   "outputs": [],
   "source": [
    "input_dir = \"E:/PCBackup/E/Polygence/PDDataset/PDDataSlices/Slice16/\"\n",
    "out_dir = \"E:/PCBackup/E/Polygence/PDDataset/training_set/Positive/\"\n",
    "file_names = [os.path.basename(x) for x in glob.glob(input_dir + './*.jpeg')]"
   ]
  },
  {
   "cell_type": "code",
   "execution_count": 128,
   "id": "e228a1cf",
   "metadata": {},
   "outputs": [],
   "source": [
    "idx1_Pos = []\n",
    "file_names2 = [os.path.basename(x) for x in glob.glob(out_dir + './*.jpeg')]\n",
    "for i in range(len(file_names2)):\n",
    "    os.remove(out_dir + file_names2[i])\n",
    "\n",
    "for i in range(int(len(file_names) * 0.8)):\n",
    "    random_num = random.randint(0, int(len(file_names) - 1))\n",
    "    while random_num in idx1_Pos:\n",
    "        random_num = random.randint(0, len(file_names) - 1)\n",
    "    idx1_Pos.append(random_num)\n",
    "    \n",
    "for i in idx1_Pos:\n",
    "    shutil.copy(input_dir + file_names[i], out_dir)"
   ]
  },
  {
   "cell_type": "code",
   "execution_count": 129,
   "id": "c84df89c",
   "metadata": {},
   "outputs": [],
   "source": [
    "input_dir = \"E:/PCBackup/E/Polygence/PDDataset/ControlDataSlices/Slice16/\"\n",
    "out_dir = \"E:/PCBackup/E/Polygence/PDDataset/training_set/Negative/\"\n",
    "file_names = [os.path.basename(x) for x in glob.glob(input_dir + './*.jpeg')]"
   ]
  },
  {
   "cell_type": "code",
   "execution_count": 130,
   "id": "f9cd0e49",
   "metadata": {},
   "outputs": [],
   "source": [
    "idx1_Neg = []\n",
    "file_names2 = [os.path.basename(x) for x in glob.glob(out_dir + './*.jpeg')]\n",
    "for i in range(len(file_names2)):\n",
    "    os.remove(out_dir + file_names2[i])\n",
    "\n",
    "for i in range(int(len(file_names) * 0.8)):\n",
    "    random_num = random.randint(0, int(len(file_names) - 1))\n",
    "    while random_num in idx1_Neg:\n",
    "        random_num = random.randint(0, len(file_names) - 1)\n",
    "    idx1_Neg.append(random_num)\n",
    "    \n",
    "for i in idx1_Neg:\n",
    "    shutil.copy(input_dir + file_names[i], out_dir)"
   ]
  },
  {
   "cell_type": "markdown",
   "id": "d1c9c979",
   "metadata": {
    "id": "MvE-heJNo3GG"
   },
   "source": [
    "### Preprocessing the Training set"
   ]
  },
  {
   "cell_type": "code",
   "execution_count": 131,
   "id": "883d505a",
   "metadata": {
    "colab": {
     "base_uri": "https://localhost:8080/",
     "height": 374
    },
    "executionInfo": {
     "elapsed": 728,
     "status": "error",
     "timestamp": 1634452979666,
     "user": {
      "displayName": "Aryaman Rtunjay",
      "photoUrl": "https://lh3.googleusercontent.com/a-/AOh14GhGt4M0ylq6JP1zdMus0p8ul3F9bgovhYjEbZxa5Q=s64",
      "userId": "10013847731473970663"
     },
     "user_tz": 420
    },
    "id": "LLOHtu3p8uX_",
    "outputId": "a79f6a5b-cab1-4d06-9fb0-ea4ea82e1418"
   },
   "outputs": [
    {
     "name": "stdout",
     "output_type": "stream",
     "text": [
      "Found 175 images belonging to 2 classes.\n"
     ]
    }
   ],
   "source": [
    "train_datagen = ImageDataGenerator(\n",
    "    rescale = 1./255,\n",
    "    shear_range = 0.2,\n",
    "    zoom_range = 0.2,\n",
    "    horizontal_flip = True\n",
    ")\n",
    "\n",
    "training_set = train_datagen.flow_from_directory(\n",
    "    \"training_set\",\n",
    "    target_size = (64, 64),\n",
    "    batch_size = 32,\n",
    "    class_mode = \"binary\"\n",
    ")"
   ]
  },
  {
   "cell_type": "markdown",
   "id": "7e303806",
   "metadata": {},
   "source": [
    "### Making the Test Set"
   ]
  },
  {
   "cell_type": "code",
   "execution_count": 132,
   "id": "837e6f9d",
   "metadata": {},
   "outputs": [],
   "source": [
    "input_dir = \"E:/PCBackup/E/Polygence/PDDataset/PDDataSlices/Slice16/\"\n",
    "out_dir = \"E:/PCBackup/E/Polygence/PDDataset/test_set/Positive/\"\n",
    "file_names = [os.path.basename(x) for x in glob.glob(input_dir + './*.jpeg')]"
   ]
  },
  {
   "cell_type": "code",
   "execution_count": 133,
   "id": "a07cd7a4",
   "metadata": {},
   "outputs": [],
   "source": [
    "idx2_Pos = []\n",
    "file_names2 = [os.path.basename(x) for x in glob.glob(out_dir + './*.jpeg')]\n",
    "for i in range(len(file_names2)):\n",
    "    os.remove(out_dir + file_names2[i])\n",
    "\n",
    "for i in range(int(len(file_names) * 0.2)):\n",
    "    random_num = random.randint(int(len(file_names) * 0.2), int(len(file_names) - 1))\n",
    "    while random_num in idx2_Pos or random_num in idx1_Pos:\n",
    "        random_num = random.randint(0, len(file_names) - 1)\n",
    "    idx2_Pos.append(random_num)\n",
    "    \n",
    "for i in idx2_Pos:\n",
    "    shutil.copy(input_dir + file_names[i], out_dir)"
   ]
  },
  {
   "cell_type": "code",
   "execution_count": 134,
   "id": "1f7f79b3",
   "metadata": {},
   "outputs": [],
   "source": [
    "input_dir = \"E:/PCBackup/E/Polygence/PDDataset/ControlDataSlices/Slice16/\"\n",
    "out_dir = \"E:/PCBackup/E/Polygence/PDDataset/test_set/Negative/\"\n",
    "file_names = [os.path.basename(x) for x in glob.glob(input_dir + './*.jpeg')]"
   ]
  },
  {
   "cell_type": "code",
   "execution_count": 135,
   "id": "2c19587d",
   "metadata": {},
   "outputs": [],
   "source": [
    "idx2_Neg = []\n",
    "file_names2 = [os.path.basename(x) for x in glob.glob(out_dir + './*.jpeg')]\n",
    "for i in range(len(file_names2)):\n",
    "    os.remove(out_dir + file_names2[i])\n",
    "\n",
    "for i in range(int(len(file_names) * 0.2)):\n",
    "    random_num = random.randint(int(len(file_names) * 0.2), int(len(file_names) - 1))\n",
    "    while random_num in idx2_Neg or random_num in idx1_Neg:\n",
    "        random_num = random.randint(0, len(file_names) - 1)\n",
    "    idx2_Neg.append(random_num)\n",
    "    \n",
    "for i in idx2_Neg:\n",
    "    shutil.copy(input_dir + file_names[i], out_dir)"
   ]
  },
  {
   "cell_type": "markdown",
   "id": "5f17988b",
   "metadata": {
    "id": "mrCMmGw9pHys"
   },
   "source": [
    "### Preprocessing the Test set"
   ]
  },
  {
   "cell_type": "code",
   "execution_count": 136,
   "id": "a52ad71b",
   "metadata": {},
   "outputs": [
    {
     "name": "stdout",
     "output_type": "stream",
     "text": [
      "Found 43 images belonging to 2 classes.\n"
     ]
    },
    {
     "data": {
      "text/plain": [
       "tensorflow.python.keras.preprocessing.image.DirectoryIterator"
      ]
     },
     "execution_count": 136,
     "metadata": {},
     "output_type": "execute_result"
    }
   ],
   "source": [
    "test_datagen = ImageDataGenerator(rescale=1./255)\n",
    "test_set = test_datagen.flow_from_directory(\n",
    "    'test_set',\n",
    "    target_size=(64, 64),\n",
    "    batch_size=32,\n",
    "    class_mode='binary')\n",
    "\n",
    "type(test_set)"
   ]
  },
  {
   "cell_type": "markdown",
   "id": "fc2d494a",
   "metadata": {
    "id": "af8O4l90gk7B"
   },
   "source": [
    "## Part 2 - Building the CNN"
   ]
  },
  {
   "cell_type": "markdown",
   "id": "1c89825d",
   "metadata": {
    "id": "ces1gXY2lmoX"
   },
   "source": [
    "### Initializing the CNN"
   ]
  },
  {
   "cell_type": "code",
   "execution_count": 137,
   "id": "232f4e53",
   "metadata": {},
   "outputs": [],
   "source": [
    "cnn = tf.keras.models.Sequential()"
   ]
  },
  {
   "cell_type": "markdown",
   "id": "389556c2",
   "metadata": {
    "id": "u5YJj_XMl5LF"
   },
   "source": [
    "### Step 1 - Convolution"
   ]
  },
  {
   "cell_type": "code",
   "execution_count": 138,
   "id": "e995ff81",
   "metadata": {},
   "outputs": [],
   "source": [
    "cnn.add(tf.keras.layers.Conv2D(filters=32,  kernel_size=3, activation=\"relu\", input_shape=(64, 64, 3)))"
   ]
  },
  {
   "cell_type": "markdown",
   "id": "ff01fb53",
   "metadata": {
    "id": "tf87FpvxmNOJ"
   },
   "source": [
    "### Step 2 - Pooling"
   ]
  },
  {
   "cell_type": "code",
   "execution_count": 139,
   "id": "cce082a1",
   "metadata": {},
   "outputs": [],
   "source": [
    "cnn.add(tf.keras.layers.MaxPool2D(pool_size=2, strides=2))"
   ]
  },
  {
   "cell_type": "markdown",
   "id": "5acdca89",
   "metadata": {
    "id": "xaTOgD8rm4mU"
   },
   "source": [
    "### Adding a second convolutional layer"
   ]
  },
  {
   "cell_type": "code",
   "execution_count": 140,
   "id": "85afcbe3",
   "metadata": {},
   "outputs": [],
   "source": [
    "cnn.add(tf.keras.layers.Conv2D(filters=32,  kernel_size=3, activation=\"relu\"))\n",
    "cnn.add(tf.keras.layers.MaxPool2D(pool_size=2, strides=2))"
   ]
  },
  {
   "cell_type": "markdown",
   "id": "12b05699",
   "metadata": {
    "id": "tmiEuvTunKfk"
   },
   "source": [
    "### Step 3 - Flattening"
   ]
  },
  {
   "cell_type": "code",
   "execution_count": 141,
   "id": "1c02cd0c",
   "metadata": {},
   "outputs": [],
   "source": [
    "cnn.add(tf.keras.layers.Flatten())"
   ]
  },
  {
   "cell_type": "markdown",
   "id": "7653b6f6",
   "metadata": {
    "id": "dAoSECOm203v"
   },
   "source": [
    "### Step 4 - Full Connection"
   ]
  },
  {
   "cell_type": "code",
   "execution_count": 142,
   "id": "5aa6ad01",
   "metadata": {},
   "outputs": [],
   "source": [
    "cnn.add(tf.keras.layers.Dense(units=128, activation='relu'))"
   ]
  },
  {
   "cell_type": "markdown",
   "id": "dee3294f",
   "metadata": {
    "id": "yTldFvbX28Na"
   },
   "source": [
    "### Step 5 - Output Layer"
   ]
  },
  {
   "cell_type": "code",
   "execution_count": 143,
   "id": "c8ecbb97",
   "metadata": {},
   "outputs": [],
   "source": [
    "cnn.add(tf.keras.layers.Dense(units=1, activation='sigmoid'))"
   ]
  },
  {
   "cell_type": "markdown",
   "id": "b2e46dd0",
   "metadata": {
    "id": "D6XkI90snSDl"
   },
   "source": [
    "## Part 3 - Training the CNN"
   ]
  },
  {
   "cell_type": "markdown",
   "id": "58a86719",
   "metadata": {
    "id": "vfrFQACEnc6i"
   },
   "source": [
    "### Compiling the CNN"
   ]
  },
  {
   "cell_type": "code",
   "execution_count": 144,
   "id": "9e73619b",
   "metadata": {},
   "outputs": [],
   "source": [
    "cnn.compile(optimizer='adam', loss='binary_crossentropy', metrics = ['accuracy'])"
   ]
  },
  {
   "cell_type": "markdown",
   "id": "875dc35b",
   "metadata": {
    "id": "ehS-v3MIpX2h"
   },
   "source": [
    "### Training the CNN on the Training set and evaluating it on the Test set"
   ]
  },
  {
   "cell_type": "code",
   "execution_count": 145,
   "id": "c4cbd25f",
   "metadata": {
    "scrolled": true
   },
   "outputs": [
    {
     "name": "stdout",
     "output_type": "stream",
     "text": [
      "Epoch 1/155\n",
      "6/6 [==============================] - 1s 145ms/step - loss: 0.6838 - accuracy: 0.5886 - val_loss: 0.6389 - val_accuracy: 0.6279\n",
      "Epoch 2/155\n",
      "6/6 [==============================] - 0s 64ms/step - loss: 0.6496 - accuracy: 0.6400 - val_loss: 0.6155 - val_accuracy: 0.6279\n",
      "Epoch 3/155\n",
      "6/6 [==============================] - 0s 65ms/step - loss: 0.6581 - accuracy: 0.6400 - val_loss: 0.5871 - val_accuracy: 0.7442\n",
      "Epoch 4/155\n",
      "6/6 [==============================] - 0s 66ms/step - loss: 0.6120 - accuracy: 0.6743 - val_loss: 0.5587 - val_accuracy: 0.7442\n",
      "Epoch 5/155\n",
      "6/6 [==============================] - 0s 64ms/step - loss: 0.6108 - accuracy: 0.6800 - val_loss: 0.5234 - val_accuracy: 0.7209\n",
      "Epoch 6/155\n",
      "6/6 [==============================] - 0s 66ms/step - loss: 0.6195 - accuracy: 0.6686 - val_loss: 0.5125 - val_accuracy: 0.7442\n",
      "Epoch 7/155\n",
      "6/6 [==============================] - 0s 64ms/step - loss: 0.5955 - accuracy: 0.6629 - val_loss: 0.5507 - val_accuracy: 0.8140\n",
      "Epoch 8/155\n",
      "6/6 [==============================] - 0s 73ms/step - loss: 0.5987 - accuracy: 0.6857 - val_loss: 0.5028 - val_accuracy: 0.7442\n",
      "Epoch 9/155\n",
      "6/6 [==============================] - 0s 64ms/step - loss: 0.5582 - accuracy: 0.7086 - val_loss: 0.5045 - val_accuracy: 0.7209\n",
      "Epoch 10/155\n",
      "6/6 [==============================] - 0s 64ms/step - loss: 0.5494 - accuracy: 0.7257 - val_loss: 0.4567 - val_accuracy: 0.7442\n",
      "Epoch 11/155\n",
      "6/6 [==============================] - 0s 67ms/step - loss: 0.5463 - accuracy: 0.7371 - val_loss: 0.4751 - val_accuracy: 0.7209\n",
      "Epoch 12/155\n",
      "6/6 [==============================] - 0s 75ms/step - loss: 0.5948 - accuracy: 0.6971 - val_loss: 0.5441 - val_accuracy: 0.8837\n",
      "Epoch 13/155\n",
      "6/6 [==============================] - 0s 70ms/step - loss: 0.5305 - accuracy: 0.7543 - val_loss: 0.4674 - val_accuracy: 0.6977\n",
      "Epoch 14/155\n",
      "6/6 [==============================] - 0s 61ms/step - loss: 0.5354 - accuracy: 0.7314 - val_loss: 0.4483 - val_accuracy: 0.7442\n",
      "Epoch 15/155\n",
      "6/6 [==============================] - 0s 60ms/step - loss: 0.4996 - accuracy: 0.7600 - val_loss: 0.4467 - val_accuracy: 0.6977\n",
      "Epoch 16/155\n",
      "6/6 [==============================] - 0s 62ms/step - loss: 0.5157 - accuracy: 0.7486 - val_loss: 0.4941 - val_accuracy: 0.8837\n",
      "Epoch 17/155\n",
      "6/6 [==============================] - 0s 67ms/step - loss: 0.4956 - accuracy: 0.7600 - val_loss: 0.4113 - val_accuracy: 0.7209\n",
      "Epoch 18/155\n",
      "6/6 [==============================] - 0s 64ms/step - loss: 0.5182 - accuracy: 0.7314 - val_loss: 0.3378 - val_accuracy: 0.7674\n",
      "Epoch 19/155\n",
      "6/6 [==============================] - 0s 64ms/step - loss: 0.4521 - accuracy: 0.7943 - val_loss: 0.3740 - val_accuracy: 0.7209\n",
      "Epoch 20/155\n",
      "6/6 [==============================] - 0s 61ms/step - loss: 0.4715 - accuracy: 0.7886 - val_loss: 0.4103 - val_accuracy: 0.7442\n",
      "Epoch 21/155\n",
      "6/6 [==============================] - 0s 70ms/step - loss: 0.4660 - accuracy: 0.7771 - val_loss: 0.3262 - val_accuracy: 0.9767\n",
      "Epoch 22/155\n",
      "6/6 [==============================] - 0s 63ms/step - loss: 0.4558 - accuracy: 0.7886 - val_loss: 0.3128 - val_accuracy: 0.8605\n",
      "Epoch 23/155\n",
      "6/6 [==============================] - 0s 65ms/step - loss: 0.4499 - accuracy: 0.8057 - val_loss: 0.3441 - val_accuracy: 0.8140\n",
      "Epoch 24/155\n",
      "6/6 [==============================] - 0s 65ms/step - loss: 0.4405 - accuracy: 0.7371 - val_loss: 0.3874 - val_accuracy: 0.8372\n",
      "Epoch 25/155\n",
      "6/6 [==============================] - 0s 66ms/step - loss: 0.4082 - accuracy: 0.8286 - val_loss: 0.3677 - val_accuracy: 0.7209\n",
      "Epoch 26/155\n",
      "6/6 [==============================] - 0s 63ms/step - loss: 0.3771 - accuracy: 0.8114 - val_loss: 0.3152 - val_accuracy: 0.8605\n",
      "Epoch 27/155\n",
      "6/6 [==============================] - 0s 63ms/step - loss: 0.3398 - accuracy: 0.8457 - val_loss: 0.3307 - val_accuracy: 0.9302\n",
      "Epoch 28/155\n",
      "6/6 [==============================] - 0s 65ms/step - loss: 0.3734 - accuracy: 0.8800 - val_loss: 0.2589 - val_accuracy: 0.8605\n",
      "Epoch 29/155\n",
      "6/6 [==============================] - 0s 65ms/step - loss: 0.3241 - accuracy: 0.8857 - val_loss: 0.2462 - val_accuracy: 0.9535\n",
      "Epoch 30/155\n",
      "6/6 [==============================] - 0s 65ms/step - loss: 0.3108 - accuracy: 0.9143 - val_loss: 0.2204 - val_accuracy: 0.8837\n",
      "Epoch 31/155\n",
      "6/6 [==============================] - 0s 66ms/step - loss: 0.3007 - accuracy: 0.8686 - val_loss: 0.2220 - val_accuracy: 0.9535\n",
      "Epoch 32/155\n",
      "6/6 [==============================] - 0s 61ms/step - loss: 0.2923 - accuracy: 0.8971 - val_loss: 0.1813 - val_accuracy: 0.9767\n",
      "Epoch 33/155\n",
      "6/6 [==============================] - 0s 65ms/step - loss: 0.3036 - accuracy: 0.8800 - val_loss: 0.2805 - val_accuracy: 0.8605\n",
      "Epoch 34/155\n",
      "6/6 [==============================] - 0s 65ms/step - loss: 0.2822 - accuracy: 0.9086 - val_loss: 0.2029 - val_accuracy: 0.9535\n",
      "Epoch 35/155\n",
      "6/6 [==============================] - 0s 64ms/step - loss: 0.2214 - accuracy: 0.9429 - val_loss: 0.1578 - val_accuracy: 0.9535\n",
      "Epoch 36/155\n",
      "6/6 [==============================] - 0s 65ms/step - loss: 0.2225 - accuracy: 0.9314 - val_loss: 0.1839 - val_accuracy: 0.9535\n",
      "Epoch 37/155\n",
      "6/6 [==============================] - 0s 66ms/step - loss: 0.2220 - accuracy: 0.8971 - val_loss: 0.2748 - val_accuracy: 0.9302\n",
      "Epoch 38/155\n",
      "6/6 [==============================] - 0s 65ms/step - loss: 0.2274 - accuracy: 0.9086 - val_loss: 0.1769 - val_accuracy: 0.9535\n",
      "Epoch 39/155\n",
      "6/6 [==============================] - 0s 73ms/step - loss: 0.2154 - accuracy: 0.9257 - val_loss: 0.1803 - val_accuracy: 0.9070\n",
      "Epoch 40/155\n",
      "6/6 [==============================] - 0s 63ms/step - loss: 0.2802 - accuracy: 0.8971 - val_loss: 0.1866 - val_accuracy: 0.9535\n",
      "Epoch 41/155\n",
      "6/6 [==============================] - 0s 72ms/step - loss: 0.2380 - accuracy: 0.9200 - val_loss: 0.3493 - val_accuracy: 0.9535\n",
      "Epoch 42/155\n",
      "6/6 [==============================] - 0s 63ms/step - loss: 0.2013 - accuracy: 0.9200 - val_loss: 0.3427 - val_accuracy: 0.9535\n",
      "Epoch 43/155\n",
      "6/6 [==============================] - 0s 66ms/step - loss: 0.2315 - accuracy: 0.9257 - val_loss: 0.1706 - val_accuracy: 0.9767\n",
      "Epoch 44/155\n",
      "6/6 [==============================] - 0s 62ms/step - loss: 0.1598 - accuracy: 0.9486 - val_loss: 0.1733 - val_accuracy: 0.9535\n",
      "Epoch 45/155\n",
      "6/6 [==============================] - 0s 63ms/step - loss: 0.1486 - accuracy: 0.9371 - val_loss: 0.2068 - val_accuracy: 0.9535\n",
      "Epoch 46/155\n",
      "6/6 [==============================] - 0s 61ms/step - loss: 0.1438 - accuracy: 0.9657 - val_loss: 0.2739 - val_accuracy: 0.9535\n",
      "Epoch 47/155\n",
      "6/6 [==============================] - 0s 64ms/step - loss: 0.1310 - accuracy: 0.9657 - val_loss: 0.2991 - val_accuracy: 0.9767\n",
      "Epoch 48/155\n",
      "6/6 [==============================] - 0s 66ms/step - loss: 0.1408 - accuracy: 0.9600 - val_loss: 0.3386 - val_accuracy: 0.9767\n",
      "Epoch 49/155\n",
      "6/6 [==============================] - 0s 64ms/step - loss: 0.1691 - accuracy: 0.9143 - val_loss: 0.2998 - val_accuracy: 0.9767\n",
      "Epoch 50/155\n",
      "6/6 [==============================] - 0s 73ms/step - loss: 0.1870 - accuracy: 0.9371 - val_loss: 0.2956 - val_accuracy: 0.9767\n",
      "Epoch 51/155\n",
      "6/6 [==============================] - 0s 64ms/step - loss: 0.1411 - accuracy: 0.9714 - val_loss: 0.3542 - val_accuracy: 0.9535\n",
      "Epoch 52/155\n",
      "6/6 [==============================] - 0s 64ms/step - loss: 0.1331 - accuracy: 0.9543 - val_loss: 0.3869 - val_accuracy: 0.9535\n",
      "Epoch 53/155\n",
      "6/6 [==============================] - 0s 65ms/step - loss: 0.0958 - accuracy: 0.9886 - val_loss: 0.1911 - val_accuracy: 0.9070\n",
      "Epoch 54/155\n",
      "6/6 [==============================] - 0s 67ms/step - loss: 0.1984 - accuracy: 0.9029 - val_loss: 0.0429 - val_accuracy: 0.9767\n",
      "Epoch 55/155\n",
      "6/6 [==============================] - 0s 63ms/step - loss: 0.2274 - accuracy: 0.8914 - val_loss: 0.0992 - val_accuracy: 0.9767\n",
      "Epoch 56/155\n",
      "6/6 [==============================] - 0s 63ms/step - loss: 0.1658 - accuracy: 0.9314 - val_loss: 0.1421 - val_accuracy: 0.9767\n",
      "Epoch 57/155\n",
      "6/6 [==============================] - 0s 71ms/step - loss: 0.1460 - accuracy: 0.9486 - val_loss: 0.0641 - val_accuracy: 1.0000\n",
      "Epoch 58/155\n",
      "6/6 [==============================] - 0s 66ms/step - loss: 0.1328 - accuracy: 0.9600 - val_loss: 0.1134 - val_accuracy: 0.9767\n",
      "Epoch 59/155\n"
     ]
    },
    {
     "name": "stdout",
     "output_type": "stream",
     "text": [
      "6/6 [==============================] - 0s 63ms/step - loss: 0.1035 - accuracy: 0.9714 - val_loss: 0.1696 - val_accuracy: 0.9767\n",
      "Epoch 60/155\n",
      "6/6 [==============================] - 0s 64ms/step - loss: 0.0895 - accuracy: 0.9771 - val_loss: 0.1164 - val_accuracy: 0.9767\n",
      "Epoch 61/155\n",
      "6/6 [==============================] - 0s 63ms/step - loss: 0.0939 - accuracy: 0.9714 - val_loss: 0.1843 - val_accuracy: 0.9767\n",
      "Epoch 62/155\n",
      "6/6 [==============================] - 0s 64ms/step - loss: 0.0860 - accuracy: 0.9771 - val_loss: 0.2339 - val_accuracy: 0.9535\n",
      "Epoch 63/155\n",
      "6/6 [==============================] - 0s 61ms/step - loss: 0.0689 - accuracy: 0.9771 - val_loss: 0.1670 - val_accuracy: 0.9535\n",
      "Epoch 64/155\n",
      "6/6 [==============================] - 0s 64ms/step - loss: 0.0743 - accuracy: 0.9829 - val_loss: 0.0707 - val_accuracy: 0.9535\n",
      "Epoch 65/155\n",
      "6/6 [==============================] - 0s 62ms/step - loss: 0.0698 - accuracy: 0.9771 - val_loss: 0.1658 - val_accuracy: 0.9535\n",
      "Epoch 66/155\n",
      "6/6 [==============================] - 0s 64ms/step - loss: 0.0564 - accuracy: 0.9943 - val_loss: 0.3377 - val_accuracy: 0.9302\n",
      "Epoch 67/155\n",
      "6/6 [==============================] - 0s 69ms/step - loss: 0.1077 - accuracy: 0.9657 - val_loss: 0.1793 - val_accuracy: 0.9535\n",
      "Epoch 68/155\n",
      "6/6 [==============================] - 0s 63ms/step - loss: 0.0874 - accuracy: 0.9771 - val_loss: 0.2107 - val_accuracy: 0.9767\n",
      "Epoch 69/155\n",
      "6/6 [==============================] - 0s 65ms/step - loss: 0.1025 - accuracy: 0.9657 - val_loss: 0.2499 - val_accuracy: 0.9302\n",
      "Epoch 70/155\n",
      "6/6 [==============================] - 0s 66ms/step - loss: 0.0855 - accuracy: 0.9771 - val_loss: 0.1425 - val_accuracy: 0.9767\n",
      "Epoch 71/155\n",
      "6/6 [==============================] - 0s 62ms/step - loss: 0.0744 - accuracy: 0.9771 - val_loss: 0.3514 - val_accuracy: 0.9767\n",
      "Epoch 72/155\n",
      "6/6 [==============================] - 0s 62ms/step - loss: 0.0918 - accuracy: 0.9829 - val_loss: 0.3274 - val_accuracy: 0.9767\n",
      "Epoch 73/155\n",
      "6/6 [==============================] - 0s 66ms/step - loss: 0.1433 - accuracy: 0.9486 - val_loss: 0.4397 - val_accuracy: 0.9535\n",
      "Epoch 74/155\n",
      "6/6 [==============================] - 0s 63ms/step - loss: 0.0817 - accuracy: 0.9771 - val_loss: 0.2636 - val_accuracy: 0.9767\n",
      "Epoch 75/155\n",
      "6/6 [==============================] - 0s 61ms/step - loss: 0.0758 - accuracy: 0.9829 - val_loss: 0.1123 - val_accuracy: 0.9767\n",
      "Epoch 76/155\n",
      "6/6 [==============================] - 0s 69ms/step - loss: 0.0403 - accuracy: 0.9886 - val_loss: 0.2952 - val_accuracy: 0.9767\n",
      "Epoch 77/155\n",
      "6/6 [==============================] - 0s 65ms/step - loss: 0.1016 - accuracy: 0.9714 - val_loss: 0.2910 - val_accuracy: 0.9767\n",
      "Epoch 78/155\n",
      "6/6 [==============================] - 0s 63ms/step - loss: 0.0634 - accuracy: 0.9771 - val_loss: 0.2870 - val_accuracy: 0.9535\n",
      "Epoch 79/155\n",
      "6/6 [==============================] - 0s 65ms/step - loss: 0.0545 - accuracy: 0.9943 - val_loss: 0.4512 - val_accuracy: 0.9535\n",
      "Epoch 80/155\n",
      "6/6 [==============================] - 0s 71ms/step - loss: 0.0622 - accuracy: 0.9771 - val_loss: 0.3649 - val_accuracy: 0.9767\n",
      "Epoch 81/155\n",
      "6/6 [==============================] - 0s 63ms/step - loss: 0.0476 - accuracy: 0.9886 - val_loss: 0.4526 - val_accuracy: 0.9535\n",
      "Epoch 82/155\n",
      "6/6 [==============================] - 0s 63ms/step - loss: 0.0729 - accuracy: 0.9714 - val_loss: 0.3083 - val_accuracy: 0.9535\n",
      "Epoch 83/155\n",
      "6/6 [==============================] - 0s 64ms/step - loss: 0.0412 - accuracy: 0.9886 - val_loss: 0.3355 - val_accuracy: 0.9767\n",
      "Epoch 84/155\n",
      "6/6 [==============================] - 0s 69ms/step - loss: 0.0970 - accuracy: 0.9714 - val_loss: 0.3302 - val_accuracy: 0.9767\n",
      "Epoch 85/155\n",
      "6/6 [==============================] - 0s 66ms/step - loss: 0.0421 - accuracy: 0.9886 - val_loss: 0.3106 - val_accuracy: 0.9767\n",
      "Epoch 86/155\n",
      "6/6 [==============================] - 0s 63ms/step - loss: 0.0376 - accuracy: 0.9886 - val_loss: 0.3232 - val_accuracy: 0.9767\n",
      "Epoch 87/155\n",
      "6/6 [==============================] - 0s 67ms/step - loss: 0.0422 - accuracy: 0.9829 - val_loss: 0.3789 - val_accuracy: 0.9535\n",
      "Epoch 88/155\n",
      "6/6 [==============================] - 0s 64ms/step - loss: 0.0567 - accuracy: 0.9886 - val_loss: 0.3197 - val_accuracy: 0.9767\n",
      "Epoch 89/155\n",
      "6/6 [==============================] - 0s 66ms/step - loss: 0.0498 - accuracy: 0.9943 - val_loss: 0.4587 - val_accuracy: 0.9535\n",
      "Epoch 90/155\n",
      "6/6 [==============================] - 0s 64ms/step - loss: 0.0546 - accuracy: 0.9771 - val_loss: 0.3017 - val_accuracy: 0.9535\n",
      "Epoch 91/155\n",
      "6/6 [==============================] - 0s 73ms/step - loss: 0.0375 - accuracy: 0.9886 - val_loss: 0.6450 - val_accuracy: 0.9070\n",
      "Epoch 92/155\n",
      "6/6 [==============================] - 0s 63ms/step - loss: 0.0426 - accuracy: 0.9943 - val_loss: 0.3898 - val_accuracy: 0.9535\n",
      "Epoch 93/155\n",
      "6/6 [==============================] - 0s 68ms/step - loss: 0.0316 - accuracy: 0.9886 - val_loss: 0.5996 - val_accuracy: 0.9535\n",
      "Epoch 94/155\n",
      "6/6 [==============================] - 0s 64ms/step - loss: 0.0331 - accuracy: 1.0000 - val_loss: 0.4688 - val_accuracy: 0.9535\n",
      "Epoch 95/155\n",
      "6/6 [==============================] - 0s 65ms/step - loss: 0.0532 - accuracy: 0.9829 - val_loss: 0.6744 - val_accuracy: 0.9070\n",
      "Epoch 96/155\n",
      "6/6 [==============================] - 0s 65ms/step - loss: 0.0150 - accuracy: 1.0000 - val_loss: 0.4341 - val_accuracy: 0.9535\n",
      "Epoch 97/155\n",
      "6/6 [==============================] - 0s 65ms/step - loss: 0.0343 - accuracy: 0.9886 - val_loss: 0.6248 - val_accuracy: 0.9535\n",
      "Epoch 98/155\n",
      "6/6 [==============================] - 0s 63ms/step - loss: 0.0236 - accuracy: 1.0000 - val_loss: 0.4317 - val_accuracy: 0.9767\n",
      "Epoch 99/155\n",
      "6/6 [==============================] - 0s 65ms/step - loss: 0.0316 - accuracy: 0.9886 - val_loss: 0.5067 - val_accuracy: 0.9767\n",
      "Epoch 100/155\n",
      "6/6 [==============================] - 0s 74ms/step - loss: 0.0288 - accuracy: 0.9943 - val_loss: 0.5163 - val_accuracy: 0.9767\n",
      "Epoch 101/155\n",
      "6/6 [==============================] - 0s 66ms/step - loss: 0.0205 - accuracy: 0.9943 - val_loss: 0.5039 - val_accuracy: 0.9767\n",
      "Epoch 102/155\n",
      "6/6 [==============================] - 0s 64ms/step - loss: 0.0143 - accuracy: 1.0000 - val_loss: 0.4911 - val_accuracy: 0.9767\n",
      "Epoch 103/155\n",
      "6/6 [==============================] - 0s 67ms/step - loss: 0.0451 - accuracy: 0.9829 - val_loss: 0.3685 - val_accuracy: 0.9535\n",
      "Epoch 104/155\n",
      "6/6 [==============================] - 0s 65ms/step - loss: 0.0952 - accuracy: 0.9543 - val_loss: 0.4737 - val_accuracy: 0.9767\n",
      "Epoch 105/155\n",
      "6/6 [==============================] - 0s 73ms/step - loss: 0.0817 - accuracy: 0.9714 - val_loss: 0.4662 - val_accuracy: 0.9535\n",
      "Epoch 106/155\n",
      "6/6 [==============================] - 0s 65ms/step - loss: 0.0494 - accuracy: 0.9714 - val_loss: 0.3845 - val_accuracy: 0.9535\n",
      "Epoch 107/155\n",
      "6/6 [==============================] - 0s 64ms/step - loss: 0.0485 - accuracy: 0.9771 - val_loss: 0.6204 - val_accuracy: 0.9302\n",
      "Epoch 108/155\n",
      "6/6 [==============================] - 0s 64ms/step - loss: 0.0595 - accuracy: 0.9829 - val_loss: 0.4087 - val_accuracy: 0.9070\n",
      "Epoch 109/155\n",
      "6/6 [==============================] - 0s 63ms/step - loss: 0.0618 - accuracy: 0.9771 - val_loss: 0.7910 - val_accuracy: 0.8837\n",
      "Epoch 110/155\n",
      "6/6 [==============================] - 0s 64ms/step - loss: 0.0507 - accuracy: 0.9943 - val_loss: 0.4003 - val_accuracy: 0.9767\n",
      "Epoch 111/155\n",
      "6/6 [==============================] - 0s 64ms/step - loss: 0.0431 - accuracy: 0.9829 - val_loss: 0.4700 - val_accuracy: 0.9767\n",
      "Epoch 112/155\n",
      "6/6 [==============================] - 0s 65ms/step - loss: 0.0345 - accuracy: 0.9943 - val_loss: 0.3929 - val_accuracy: 0.9767\n",
      "Epoch 113/155\n",
      "6/6 [==============================] - 0s 64ms/step - loss: 0.0252 - accuracy: 0.9886 - val_loss: 0.4061 - val_accuracy: 0.9767\n",
      "Epoch 114/155\n",
      "6/6 [==============================] - 0s 64ms/step - loss: 0.0187 - accuracy: 1.0000 - val_loss: 0.4753 - val_accuracy: 0.9767\n",
      "Epoch 115/155\n",
      "6/6 [==============================] - 0s 64ms/step - loss: 0.0259 - accuracy: 0.9829 - val_loss: 0.4816 - val_accuracy: 0.9767\n",
      "Epoch 116/155\n",
      "6/6 [==============================] - 0s 65ms/step - loss: 0.0486 - accuracy: 0.9829 - val_loss: 0.6018 - val_accuracy: 0.9535\n",
      "Epoch 117/155\n"
     ]
    },
    {
     "name": "stdout",
     "output_type": "stream",
     "text": [
      "6/6 [==============================] - 0s 65ms/step - loss: 0.0325 - accuracy: 0.9886 - val_loss: 0.4920 - val_accuracy: 0.9767\n",
      "Epoch 118/155\n",
      "6/6 [==============================] - 0s 61ms/step - loss: 0.0237 - accuracy: 0.9943 - val_loss: 0.6475 - val_accuracy: 0.9535\n",
      "Epoch 119/155\n",
      "6/6 [==============================] - 0s 62ms/step - loss: 0.0286 - accuracy: 0.9943 - val_loss: 0.4880 - val_accuracy: 0.9535\n",
      "Epoch 120/155\n",
      "6/6 [==============================] - 0s 68ms/step - loss: 0.0239 - accuracy: 0.9943 - val_loss: 0.6702 - val_accuracy: 0.9302\n",
      "Epoch 121/155\n",
      "6/6 [==============================] - 0s 64ms/step - loss: 0.0188 - accuracy: 1.0000 - val_loss: 0.5576 - val_accuracy: 0.9767\n",
      "Epoch 122/155\n",
      "6/6 [==============================] - 0s 72ms/step - loss: 0.0481 - accuracy: 0.9886 - val_loss: 0.8491 - val_accuracy: 0.9302\n",
      "Epoch 123/155\n",
      "6/6 [==============================] - 0s 64ms/step - loss: 0.0356 - accuracy: 0.9886 - val_loss: 0.5717 - val_accuracy: 0.9767\n",
      "Epoch 124/155\n",
      "6/6 [==============================] - 0s 65ms/step - loss: 0.0267 - accuracy: 0.9886 - val_loss: 0.5161 - val_accuracy: 0.9535\n",
      "Epoch 125/155\n",
      "6/6 [==============================] - 0s 60ms/step - loss: 0.0234 - accuracy: 0.9943 - val_loss: 0.7563 - val_accuracy: 0.9302\n",
      "Epoch 126/155\n",
      "6/6 [==============================] - 0s 73ms/step - loss: 0.0166 - accuracy: 1.0000 - val_loss: 0.6058 - val_accuracy: 0.9767\n",
      "Epoch 127/155\n",
      "6/6 [==============================] - 0s 64ms/step - loss: 0.0293 - accuracy: 0.9886 - val_loss: 0.7441 - val_accuracy: 0.9535\n",
      "Epoch 128/155\n",
      "6/6 [==============================] - 0s 66ms/step - loss: 0.0257 - accuracy: 0.9943 - val_loss: 0.6920 - val_accuracy: 0.9535\n",
      "Epoch 129/155\n",
      "6/6 [==============================] - 0s 62ms/step - loss: 0.0257 - accuracy: 0.9829 - val_loss: 0.9840 - val_accuracy: 0.9302\n",
      "Epoch 130/155\n",
      "6/6 [==============================] - 0s 65ms/step - loss: 0.0248 - accuracy: 0.9943 - val_loss: 0.9193 - val_accuracy: 0.9767\n",
      "Epoch 131/155\n",
      "6/6 [==============================] - 0s 63ms/step - loss: 0.0117 - accuracy: 1.0000 - val_loss: 0.9134 - val_accuracy: 0.9535\n",
      "Epoch 132/155\n",
      "6/6 [==============================] - 0s 66ms/step - loss: 0.0179 - accuracy: 0.9943 - val_loss: 0.9933 - val_accuracy: 0.9070\n",
      "Epoch 133/155\n",
      "6/6 [==============================] - 0s 65ms/step - loss: 0.0082 - accuracy: 1.0000 - val_loss: 0.8539 - val_accuracy: 0.9535\n",
      "Epoch 134/155\n",
      "6/6 [==============================] - 0s 62ms/step - loss: 0.0106 - accuracy: 1.0000 - val_loss: 0.7876 - val_accuracy: 0.9767\n",
      "Epoch 135/155\n",
      "6/6 [==============================] - 0s 62ms/step - loss: 0.0166 - accuracy: 0.9943 - val_loss: 0.7893 - val_accuracy: 0.9535\n",
      "Epoch 136/155\n",
      "6/6 [==============================] - 0s 63ms/step - loss: 0.0126 - accuracy: 0.9943 - val_loss: 0.7717 - val_accuracy: 0.9767\n",
      "Epoch 137/155\n",
      "6/6 [==============================] - 0s 62ms/step - loss: 0.0048 - accuracy: 1.0000 - val_loss: 0.8567 - val_accuracy: 0.9535\n",
      "Epoch 138/155\n",
      "6/6 [==============================] - 0s 74ms/step - loss: 0.0055 - accuracy: 1.0000 - val_loss: 0.8507 - val_accuracy: 0.9535\n",
      "Epoch 139/155\n",
      "6/6 [==============================] - 0s 70ms/step - loss: 0.0132 - accuracy: 0.9943 - val_loss: 0.9045 - val_accuracy: 0.9535\n",
      "Epoch 140/155\n",
      "6/6 [==============================] - 0s 64ms/step - loss: 0.0119 - accuracy: 0.9943 - val_loss: 0.7315 - val_accuracy: 0.9767\n",
      "Epoch 141/155\n",
      "6/6 [==============================] - 0s 62ms/step - loss: 0.0098 - accuracy: 1.0000 - val_loss: 0.7939 - val_accuracy: 0.9767\n",
      "Epoch 142/155\n",
      "6/6 [==============================] - 0s 61ms/step - loss: 0.0078 - accuracy: 1.0000 - val_loss: 0.7396 - val_accuracy: 0.9767\n",
      "Epoch 143/155\n",
      "6/6 [==============================] - 0s 61ms/step - loss: 0.0046 - accuracy: 1.0000 - val_loss: 0.6659 - val_accuracy: 0.9767\n",
      "Epoch 144/155\n",
      "6/6 [==============================] - 0s 72ms/step - loss: 0.0272 - accuracy: 0.9886 - val_loss: 0.7928 - val_accuracy: 0.9767\n",
      "Epoch 145/155\n",
      "6/6 [==============================] - 0s 62ms/step - loss: 0.0237 - accuracy: 0.9886 - val_loss: 0.8318 - val_accuracy: 0.9767\n",
      "Epoch 146/155\n",
      "6/6 [==============================] - 0s 61ms/step - loss: 0.0054 - accuracy: 1.0000 - val_loss: 0.9082 - val_accuracy: 0.9302\n",
      "Epoch 147/155\n",
      "6/6 [==============================] - 0s 61ms/step - loss: 0.0054 - accuracy: 1.0000 - val_loss: 0.8403 - val_accuracy: 0.9767\n",
      "Epoch 148/155\n",
      "6/6 [==============================] - 0s 62ms/step - loss: 0.0120 - accuracy: 0.9943 - val_loss: 0.8880 - val_accuracy: 0.9767\n",
      "Epoch 149/155\n",
      "6/6 [==============================] - 0s 63ms/step - loss: 0.0154 - accuracy: 0.9943 - val_loss: 0.7841 - val_accuracy: 0.9535\n",
      "Epoch 150/155\n",
      "6/6 [==============================] - 0s 63ms/step - loss: 0.0140 - accuracy: 0.9943 - val_loss: 0.7649 - val_accuracy: 0.9535\n",
      "Epoch 151/155\n",
      "6/6 [==============================] - 0s 63ms/step - loss: 0.0158 - accuracy: 0.9886 - val_loss: 0.8115 - val_accuracy: 0.9767\n",
      "Epoch 152/155\n",
      "6/6 [==============================] - 0s 63ms/step - loss: 0.0159 - accuracy: 0.9943 - val_loss: 0.6632 - val_accuracy: 0.9767\n",
      "Epoch 153/155\n",
      "6/6 [==============================] - 0s 62ms/step - loss: 0.0260 - accuracy: 0.9943 - val_loss: 0.5924 - val_accuracy: 0.9767\n",
      "Epoch 154/155\n",
      "6/6 [==============================] - 0s 61ms/step - loss: 0.0415 - accuracy: 0.9886 - val_loss: 0.8229 - val_accuracy: 0.9302\n",
      "Epoch 155/155\n",
      "6/6 [==============================] - 0s 62ms/step - loss: 0.0336 - accuracy: 0.9943 - val_loss: 0.7560 - val_accuracy: 0.9535\n"
     ]
    }
   ],
   "source": [
    "history = cnn.fit(x = training_set, validation_data = test_set, epochs = 155, shuffle = True)\n",
    "# Graph epoch accuracy to find max"
   ]
  },
  {
   "cell_type": "code",
   "execution_count": 146,
   "id": "ff8c2053",
   "metadata": {},
   "outputs": [
    {
     "data": {
      "image/png": "[encoded data removed]",
      "text/plain": [
       "<Figure size 432x288 with 1 Axes>"
      ]
     },
     "metadata": {
      "needs_background": "light"
     },
     "output_type": "display_data"
    }
   ],
   "source": [
    "acc_train = history.history['accuracy']\n",
    "acc_val = history.history['val_accuracy']\n",
    "loss_train = history.history['loss']\n",
    "loss_val = history.history['val_loss']\n",
    "epochs = range(1,156)\n",
    "plt.plot(epochs, acc_train, 'g', label='Training accuracy')\n",
    "plt.plot(epochs, acc_val, 'b', label='Validation accuracy')\n",
    "plt.plot(epochs, loss_train, 'r', label=\"Training loss\")\n",
    "plt.plot(epochs, loss_val, 'y', label=\"Validation loss\")\n",
    "plt.title('Training and Validation accuracy')\n",
    "plt.xlabel('Epochs')\n",
    "plt.ylabel('Accuracy')\n",
    "plt.legend()\n",
    "plt.show()"
   ]
  },
  {
   "cell_type": "code",
   "execution_count": 147,
   "id": "c67794fb",
   "metadata": {},
   "outputs": [
    {
     "name": "stdout",
     "output_type": "stream",
     "text": [
      "2/2 [==============================] - 0s 6ms/step - loss: 0.7560 - accuracy: 0.9535\n"
     ]
    },
    {
     "data": {
      "text/plain": [
       "[0.755993127822876, 0.9534883499145508]"
      ]
     },
     "execution_count": 147,
     "metadata": {},
     "output_type": "execute_result"
    }
   ],
   "source": [
    "cnn.evaluate(test_set)"
   ]
  },
  {
   "cell_type": "markdown",
   "id": "e25d1c73",
   "metadata": {
    "id": "U3PZasO0006Z"
   },
   "source": [
    "## Part 4 - Making a single prediction"
   ]
  },
  {
   "cell_type": "code",
   "execution_count": 25,
   "id": "5b89dcfd",
   "metadata": {},
   "outputs": [],
   "source": [
    "test_image = image.load_img('E:\\PCBackup\\E\\Polygence\\Control.png', target_size=(64, 64))\n",
    "test_image = image.img_to_array(test_image)\n",
    "test_image = np.expand_dims(test_image, axis=0)\n",
    "result = cnn.predict(test_image/255.0)\n",
    "\n",
    "if result[0][0] < 0.5:\n",
    "    prediction = \"Negative\"\n",
    "else:\n",
    "    prediction = \"Postive\""
   ]
  },
  {
   "cell_type": "code",
   "execution_count": 26,
   "id": "0b99a8b9",
   "metadata": {},
   "outputs": [
    {
     "name": "stdout",
     "output_type": "stream",
     "text": [
      "Negative\n"
     ]
    }
   ],
   "source": [
    "print(prediction)"
   ]
  },
  {
   "cell_type": "code",
   "execution_count": 27,
   "id": "beafc78a",
   "metadata": {},
   "outputs": [],
   "source": [
    "test_image = image.load_img('E:\\PCBackup\\E\\Polygence\\ControlData\\PPMI_102366_MR_LOWER_2D_GRE_MT__br_raw_20210929001748134_2_S1067382_I1497683.jpeg', target_size=(64, 64))\n",
    "test_image = image.img_to_array(test_image)\n",
    "test_image = np.expand_dims(test_image, axis=0)\n",
    "result = cnn.predict(test_image/255.0)\n",
    "\n",
    "if result[0][0] < 0.5:\n",
    "    prediction = \"Negative\"\n",
    "else:\n",
    "    prediction = \"Positive\""
   ]
  },
  {
   "cell_type": "code",
   "execution_count": null,
   "id": "4af49775",
   "metadata": {},
   "outputs": [],
   "source": [
    "print(prediction)"
   ]
  },
  {
   "cell_type": "code",
   "execution_count": 100,
   "id": "ab337435",
   "metadata": {},
   "outputs": [],
   "source": [
    "test_image = image.load_img('E:\\PCBackup\\E\\Polygence\\ControlData\\PPMI_101195_MR_2D_GRE-MT__br_raw_20210924164712529_2_S1066283_I1496365.jpeg', target_size=(64, 64))\n",
    "test_image = image.img_to_array(test_image)\n",
    "test_image = np.expand_dims(test_image, axis=0)\n",
    "result = cnn.predict(test_image/255.0)\n",
    "\n",
    "if result[0][0] < 0.5:\n",
    "    prediction = \"Negative\"\n",
    "else:\n",
    "    prediction = \"Positive\""
   ]
  },
  {
   "cell_type": "code",
   "execution_count": 101,
   "id": "d98919bf",
   "metadata": {},
   "outputs": [
    {
     "name": "stdout",
     "output_type": "stream",
     "text": [
      "Negative\n"
     ]
    }
   ],
   "source": [
    "print(prediction)"
   ]
  },
  {
   "cell_type": "code",
   "execution_count": 102,
   "id": "bb720834",
   "metadata": {},
   "outputs": [],
   "source": [
    "test_image = image.load_img('E:\\PCBackup\\E\\Polygence\\PDData\\PPMI_100018_MR_2D_GRE-MT__br_raw_20210928204101945_2_S1067280_I1497581.jpeg', target_size=(64, 64))\n",
    "test_image = image.img_to_array(test_image)\n",
    "test_image = np.expand_dims(test_image, axis=0)\n",
    "result = cnn.predict(test_image/255.0)\n",
    "\n",
    "if result[0][0] < 0.5:\n",
    "    prediction = \"Negative\"\n",
    "else:\n",
    "    prediction = \"Positive\""
   ]
  },
  {
   "cell_type": "code",
   "execution_count": 103,
   "id": "641f2de5",
   "metadata": {},
   "outputs": [
    {
     "name": "stdout",
     "output_type": "stream",
     "text": [
      "Positive\n"
     ]
    }
   ],
   "source": [
    "print(prediction)"
   ]
  },
  {
   "cell_type": "code",
   "execution_count": 104,
   "id": "0cce9602",
   "metadata": {},
   "outputs": [],
   "source": [
    "test_image = image.load_img('E:\\PCBackup\\E\\Polygence\\PDData\\PPMI_100001_MR_AX_T2_GRE_MT_br_raw_20210723155004342_2_S1047633_I1473181.jpeg', target_size=(64, 64))\n",
    "test_image = image.img_to_array(test_image)\n",
    "test_image = np.expand_dims(test_image, axis=0)\n",
    "result = cnn.predict(test_image/255.0)\n",
    "\n",
    "if result[0][0] < 0.5:\n",
    "    prediction = \"Negative\"\n",
    "else:\n",
    "    prediction = \"Positive\""
   ]
  },
  {
   "cell_type": "code",
   "execution_count": 105,
   "id": "acdd1339",
   "metadata": {},
   "outputs": [
    {
     "name": "stdout",
     "output_type": "stream",
     "text": [
      "Positive\n"
     ]
    }
   ],
   "source": [
    "print(prediction)"
   ]
  },
  {
   "cell_type": "code",
   "execution_count": null,
   "id": "15f3462b",
   "metadata": {},
   "outputs": [],
   "source": []
  }
 ],
 "metadata": {
  "kernelspec": {
   "display_name": "Python 3 (ipykernel)",
   "language": "python",
   "name": "python3"
  },
  "language_info": {
   "codemirror_mode": {
    "name": "ipython",
    "version": 3
   },
   "file_extension": ".py",
   "mimetype": "text/x-python",
   "name": "python",
   "nbconvert_exporter": "python",
   "pygments_lexer": "ipython3",
   "version": "3.8.12"
  }
 },
 "nbformat": 4,
 "nbformat_minor": 5
}
